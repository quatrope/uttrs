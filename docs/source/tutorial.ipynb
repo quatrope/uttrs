{
 "cells": [
  {
   "cell_type": "markdown",
   "metadata": {},
   "source": [
    "# Tutorial\n",
    "\n",
    "This tutorial is intended to serve as a guide on how to create classes using *uttrs*\n",
    "\n",
    "<span style=\"color: red\">Warning: This is still a DRAFT version.</span>\n",
    "\n",
    "## Interactive Version\n",
    "\n",
    "Launch Binder for an interactive version of this tutorial!\n",
    "\n",
    "[![Binder](https://mybinder.org/badge_logo.svg)](https://mybinder.org/v2/gh/quatrope/uttrs/HEAD?filepath=%2Fdocs%2Fsource%2Ftutorial.ipynb)\n",
    "\n",
    "## Imports\n",
    "\n",
    "Let's first import all necessary libraries at the top. You will generally need just three:\n",
    "\n",
    "- `attr` (*attrs*) is the library uttrs is based on. Attrs creates classes with less boilerplate code.\n",
    "- `astropy.units` is a library that contains all the machinery to deal with astronomical and physical units.\n",
    "- `uttr` (*uttrs*) is the library we will explore on this tutorial.\n",
    "\n",
    "\n",
    "> Note: This tutorial assumes knowledge on the aforementioned libraries.\n",
    "Please refer to the reference links at the end of this notebook for more information."
   ]
  },
  {
   "cell_type": "code",
   "execution_count": null,
   "metadata": {},
   "outputs": [],
   "source": [
    "import attr\n",
    "import uttr\n",
    "import astropy.units as u"
   ]
  },
  {
   "cell_type": "markdown",
   "metadata": {},
   "source": [
    "### The Galaxy Class\n",
    "\n",
    "We will create a stripped-down version of the Galaxy class from the [Galaxy-Chop](https://github.com/vcristiani/galaxy-chop) project.\n",
    "\n",
    "It will have only 8 attributes. The first 7 will have units attached and will be implemented with `uttr.ib`.\n",
    "These are:\n",
    "\n",
    "* `x`, `y`, `z`: The postions of the particles (typically stars) from the center of the galaxy measured in KiloParsecs ($kpc$).\n",
    "* `vx`, `vy`,  `vz`: The relative velocity components of the particles measured in $km/s$.\n",
    "* `m`: Masses of the particles in units of solar masses ($M_\\odot$).\n",
    "\n",
    "The last attribute `notes` is a description text about the galaxy and can be implemented with the standar *attrs* library."
   ]
  },
  {
   "cell_type": "code",
   "execution_count": null,
   "metadata": {},
   "outputs": [],
   "source": [
    "@attr.s\n",
    "class Galaxy:\n",
    "    x = uttr.ib(unit=u.kpc)\n",
    "    y = uttr.ib(unit=u.kpc)\n",
    "    z = uttr.ib(unit=u.kpc)\n",
    "\n",
    "    vx = uttr.ib(unit=u.km / u.s)\n",
    "    vy = uttr.ib(unit=u.km / u.s)\n",
    "    vz = uttr.ib(unit=u.km / u.s)\n",
    "\n",
    "    m = uttr.ib(unit=u.M_sun)\n",
    "\n",
    "    notes = attr.ib(validator=attr.validators.instance_of(str))"
   ]
  },
  {
   "cell_type": "markdown",
   "metadata": {},
   "source": [
    "### Galaxy with Default Units\n",
    "\n",
    "Now that we created our class, we can go ahead and create an object of type *Galaxy*.\n",
    "\n",
    "To keep it simple, let's assume only 4 particles with totally arbitrary numbers on each attribute.\n",
    "\n",
    "Part of *uttrs* power is its ability to assign default units when not provided, or to validate that the input unit is physically compatible with the given default.\n",
    "\n",
    "Let's see first an example in which all units are assigned automatically."
   ]
  },
  {
   "cell_type": "code",
   "execution_count": null,
   "metadata": {},
   "outputs": [],
   "source": [
    "gal = Galaxy(\n",
    "    x=[1, 1, 3, 4],\n",
    "    y=[10, 2, 3, 100],\n",
    "    z=[1, 1, 1, 1],\n",
    "    vx=[1000, 1023, 2346, 1334],\n",
    "    vy=[9956, 833, 954, 1024],\n",
    "    vz=[1253, 956, 1054, 3568],\n",
    "    m=[200, 100, 20, 5],\n",
    "    notes=\"A random galaxy with arbitrary numbers.\",\n",
    ")"
   ]
  },
  {
   "cell_type": "markdown",
   "metadata": {},
   "source": [
    "Let's verify that all attributes of the class were given the correct units."
   ]
  },
  {
   "cell_type": "code",
   "execution_count": null,
   "metadata": {},
   "outputs": [],
   "source": [
    "gal.x"
   ]
  },
  {
   "cell_type": "code",
   "execution_count": null,
   "metadata": {},
   "outputs": [],
   "source": [
    "gal.y"
   ]
  },
  {
   "cell_type": "code",
   "execution_count": null,
   "metadata": {},
   "outputs": [],
   "source": [
    "gal.vx"
   ]
  },
  {
   "cell_type": "code",
   "execution_count": null,
   "metadata": {},
   "outputs": [],
   "source": [
    "gal.m"
   ]
  },
  {
   "cell_type": "code",
   "execution_count": null,
   "metadata": {},
   "outputs": [],
   "source": [
    "gal.notes"
   ]
  },
  {
   "cell_type": "markdown",
   "metadata": {},
   "source": [
    "### Galaxy with Explicit Units\n",
    "\n",
    "A different alternative is to provide units compatible with the default unit.\n",
    "In this case, we have to be mindful of the phyisical equivalence of units with the ones given at the time the class was created.\n",
    "\n",
    "For example, we could suggest that the dimension `z` be given in parsecs, `vy` in $km/h$ and masses in $kg$."
   ]
  },
  {
   "cell_type": "code",
   "execution_count": null,
   "metadata": {},
   "outputs": [],
   "source": [
    "gal = Galaxy(\n",
    "    x=[1, 1, 3, 4],\n",
    "    y=[10, 2, 3, 100],\n",
    "    z=[1000, 1000, 1000, 1000] * u.parsec,\n",
    "    vx=[1000, 1023, 2346, 1334],\n",
    "    vy=[9956, 833, 954, 1024] * (u.km / u.h),\n",
    "    vz=[1253, 956, 1054, 3568],\n",
    "    m=[200, 100, 20, 5] * u.kg,\n",
    "    notes=\"A random galaxy with arbitrary numbers.\",\n",
    ")"
   ]
  },
  {
   "cell_type": "markdown",
   "metadata": {},
   "source": [
    "As we note above, this works as expected without error.\n",
    "We can further access any of the attributes and verify that they keep the suggested units."
   ]
  },
  {
   "cell_type": "code",
   "execution_count": null,
   "metadata": {},
   "outputs": [],
   "source": [
    "gal.z  # parsecs"
   ]
  },
  {
   "cell_type": "code",
   "execution_count": null,
   "metadata": {},
   "outputs": [],
   "source": [
    "gal.m  # kg"
   ]
  },
  {
   "cell_type": "code",
   "execution_count": null,
   "metadata": {},
   "outputs": [],
   "source": [
    "gal.vx  # default km/s"
   ]
  },
  {
   "cell_type": "code",
   "execution_count": null,
   "metadata": {},
   "outputs": [],
   "source": [
    "gal.vy # km/h"
   ]
  },
  {
   "cell_type": "markdown",
   "metadata": {},
   "source": [
    "On the other hand, if we try to input a unit that is incompatible with the suggested input unit, a `ValueError` exception is raised.\n",
    "\n",
    "To show this, let's try to assign `x` values with units of grams ($g$)."
   ]
  },
  {
   "cell_type": "code",
   "execution_count": null,
   "metadata": {},
   "outputs": [],
   "source": [
    "gal = Galaxy(\n",
    "    x=[1, 1, 3, 4] * u.g,\n",
    "    y=[10, 2, 3, 100],\n",
    "    z=[1000, 1000, 1000, 1000] * u.parsec,\n",
    "    vx=[1000, 1023, 2346, 1334],\n",
    "    vy=[9956, 833, 954, 1024] * (u.km / u.h),\n",
    "    vz=[1253, 956, 1054, 3568],\n",
    "    m=[200, 100, 20, 5] * u.kg,\n",
    "    notes=\"A random galaxy with arbitrary numbers.\",\n",
    ")"
   ]
  },
  {
   "cell_type": "markdown",
   "metadata": {},
   "source": [
    "## Automatic Cohersion of Units: Array Accessor\n",
    "\n",
    "One powerful feauture of *uttrs* is the ability to easily transform all units to plain `numpy.ndarray`, using the default units.\n",
    "\n",
    "This is achieved using the `uttr.array_accessor()` function.\n",
    "This allows for uniform access of attributes defined by uttrs, in a data structure that has faster access time than its counterpart with units.\n",
    "\n",
    "To add this feature we must add an extra attribute to the class.\n",
    "We suggest the name `arr_` for the accessor attribute.\n",
    "\n",
    "Expanding on the previous example:"
   ]
  },
  {
   "cell_type": "code",
   "execution_count": null,
   "metadata": {},
   "outputs": [],
   "source": [
    "@attr.s\n",
    "class Galaxy:\n",
    "    x = uttr.ib(unit=u.kpc)\n",
    "    y = uttr.ib(unit=u.kpc)\n",
    "    z = uttr.ib(unit=u.kpc)\n",
    "\n",
    "    vx = uttr.ib(unit=u.km / u.s)\n",
    "    vy = uttr.ib(unit=u.km / u.s)\n",
    "    vz = uttr.ib(unit=u.km / u.s)\n",
    "\n",
    "    m = uttr.ib(unit=u.M_sun)\n",
    "\n",
    "    notes = attr.ib(validator=attr.validators.instance_of(str))\n",
    "\n",
    "    arr_ = uttr.array_accessor()  # the accessor"
   ]
  },
  {
   "cell_type": "markdown",
   "metadata": {},
   "source": [
    "Let's instantiate the class again with some parameters with custom units."
   ]
  },
  {
   "cell_type": "code",
   "execution_count": null,
   "metadata": {},
   "outputs": [],
   "source": [
    "gal = Galaxy(\n",
    "    x=[1, 1, 3, 4],\n",
    "    y=[10, 2, 3, 100],\n",
    "    z=[1000, 1000, 1000, 1000] * u.parsec,\n",
    "    vx=[1000, 1023, 2346, 1334],\n",
    "    vy=[9956, 833, 954, 1024] * (u.km / u.h),\n",
    "    vz=[1253, 956, 1054, 3568],\n",
    "    m=[200, 100, 20, 5] * u.kg,\n",
    "    notes=\"A random galaxy with arbitrary numbers.\",\n",
    ")"
   ]
  },
  {
   "cell_type": "markdown",
   "metadata": {},
   "source": [
    "If we now access `z` through our `arr_` accessor, *uttrs* will convert the values in parsec units to kiloparsecs and return a uniform numpy array."
   ]
  },
  {
   "cell_type": "code",
   "execution_count": null,
   "metadata": {},
   "outputs": [],
   "source": [
    "gal.arr_.z"
   ]
  },
  {
   "cell_type": "markdown",
   "metadata": {},
   "source": [
    "While `z` keeps its original unit."
   ]
  },
  {
   "cell_type": "code",
   "execution_count": null,
   "metadata": {},
   "outputs": [],
   "source": [
    "gal.arr_.z"
   ]
  },
  {
   "cell_type": "markdown",
   "metadata": {},
   "source": [
    "The same applies to `vy` and `m`."
   ]
  },
  {
   "cell_type": "code",
   "execution_count": null,
   "metadata": {},
   "outputs": [],
   "source": [
    "gal.arr_.m"
   ]
  },
  {
   "cell_type": "code",
   "execution_count": null,
   "metadata": {},
   "outputs": [],
   "source": [
    "gal.arr_.vy"
   ]
  },
  {
   "cell_type": "markdown",
   "metadata": {},
   "source": [
    "If we try to access a private attribute not from `uttr.ib`, an `AttributeError` exception is raised."
   ]
  },
  {
   "cell_type": "code",
   "execution_count": null,
   "metadata": {},
   "outputs": [],
   "source": [
    "gal.arr_.notes"
   ]
  },
  {
   "cell_type": "markdown",
   "metadata": {},
   "source": [
    "## Using the `array_accessor`\n",
    "\n",
    "It is a known issue that Astropy units can slow down complex computations.\n",
    "\n",
    "To avoid this, developers usually choose to uniformize units and convert the values to numpy arrays to operate on them faster; reverting back to values with units at the end of the calculation.\n",
    "\n",
    "As a helper, `array_accesor` will perform the transformation in a transparent way to the user, avoiding the need to replicate information regarding units.\n",
    "\n",
    "For example, if we wanted to program code that generates a new Galaxy object with a single particle that is the average mean of all the rest, we could do something like this:"
   ]
  },
  {
   "cell_type": "code",
   "execution_count": null,
   "metadata": {},
   "outputs": [],
   "source": [
    "@attr.s\n",
    "class Galaxy:\n",
    "    x = uttr.ib(unit=u.kpc)\n",
    "    y = uttr.ib(unit=u.kpc)\n",
    "    z = uttr.ib(unit=u.kpc)\n",
    "\n",
    "    vx = uttr.ib(unit=u.km / u.s)\n",
    "    vy = uttr.ib(unit=u.km / u.s)\n",
    "    vz = uttr.ib(unit=u.km / u.s)\n",
    "\n",
    "    m = uttr.ib(unit=u.M_sun)\n",
    "\n",
    "    notes = attr.ib(validator=attr.validators.instance_of(str))\n",
    "\n",
    "    arr_ = uttr.array_accessor()  # el accessor\n",
    "\n",
    "    def mean(self):\n",
    "        x = np.mean(self.arr_.x)\n",
    "        y = np.mean(self.arr_.y)\n",
    "        z = np.mean(self.arr_.z)\n",
    "\n",
    "        vx = np.mean(self.arr_.vx)\n",
    "        vy = np.mean(self.arr_.vy)\n",
    "        vz = np.mean(self.arr_.vz)\n",
    "\n",
    "        m = np.mean(self.arr_.m)\n",
    "\n",
    "        return Galaxy(\n",
    "            x=x, y=y, z=z, vx=vx, vy=vy, vz=vz, m=m, notes=self.notes\n",
    "        )"
   ]
  },
  {
   "cell_type": "markdown",
   "metadata": {},
   "source": [
    "We could now create a galaxy with 1 million random elements and calculate the \"average\" galaxy."
   ]
  },
  {
   "cell_type": "code",
   "execution_count": null,
   "metadata": {},
   "outputs": [],
   "source": [
    "import numpy as np\n",
    "\n",
    "# Fix random seed\n",
    "random = np.random.default_rng(seed=42)\n",
    "\n",
    "size = 1_000_000\n",
    "\n",
    "gal = Galaxy(\n",
    "    x=random.random(size=size),\n",
    "    y=random.random(size=size),\n",
    "    z=random.random(size=size) * u.parsec,\n",
    "    vx=random.random(size=size),\n",
    "    vy=random.random(size=size),\n",
    "    vz=random.random(size=size) * (u.km / u.h),\n",
    "    m=random.random(size=size) * u.kg,\n",
    "    notes=\"A random galaxy with arbitrary numbers.\",\n",
    ")"
   ]
  },
  {
   "cell_type": "code",
   "execution_count": null,
   "metadata": {},
   "outputs": [],
   "source": [
    "gal.mean()"
   ]
  },
  {
   "cell_type": "markdown",
   "metadata": {},
   "source": [
    "To complete the example, let's see how would a `mean` method look like without `array_accessor`."
   ]
  },
  {
   "cell_type": "code",
   "execution_count": null,
   "metadata": {},
   "outputs": [],
   "source": [
    "@attr.s\n",
    "class Galaxy:\n",
    "    x = uttr.ib(unit=u.kpc)\n",
    "    y = uttr.ib(unit=u.kpc)\n",
    "    z = uttr.ib(unit=u.kpc)\n",
    "\n",
    "    vx = uttr.ib(unit=u.km / u.s)\n",
    "    vy = uttr.ib(unit=u.km / u.s)\n",
    "    vz = uttr.ib(unit=u.km / u.s)\n",
    "\n",
    "    m = uttr.ib(unit=u.M_sun)\n",
    "\n",
    "    notes = attr.ib(validator=attr.validators.instance_of(str))\n",
    "\n",
    "    arr_ = uttr.array_accessor()  # el accessor\n",
    "\n",
    "    def mean(self):\n",
    "        x = np.mean(self.x.to_value(u.kpc))\n",
    "        y = np.mean(self.y.to_value(u.kpc))\n",
    "        z = np.mean(self.z.to_value(u.kpc))\n",
    "\n",
    "        vx = np.mean(self.vx.to_value(u.km / u.s))\n",
    "        vy = np.mean(self.vy.to_value(u.km / u.s))\n",
    "        vz = np.mean(self.vz.to_value(u.km / u.s))\n",
    "\n",
    "        m = np.mean(self.m.to_value(u.M_sun))\n",
    "\n",
    "        return Galaxy(\n",
    "            x=x, y=y, z=z, vx=vx, vy=vy, vz=vz, m=m, notes=self.notes\n",
    "        )"
   ]
  },
  {
   "cell_type": "code",
   "execution_count": null,
   "metadata": {},
   "outputs": [],
   "source": [
    "import datetime as dt\n",
    "dt.datetime.now().date().isoformat()"
   ]
  },
  {
   "cell_type": "code",
   "execution_count": null,
   "metadata": {},
   "outputs": [],
   "source": []
  }
 ],
 "metadata": {
  "kernelspec": {
   "display_name": "Python 3",
   "language": "python",
   "name": "python3"
  },
  "language_info": {
   "codemirror_mode": {
    "name": "ipython",
    "version": 3
   },
   "file_extension": ".py",
   "mimetype": "text/x-python",
   "name": "python",
   "nbconvert_exporter": "python",
   "pygments_lexer": "ipython3",
   "version": "3.7.3"
  }
 },
 "nbformat": 4,
 "nbformat_minor": 4
}
